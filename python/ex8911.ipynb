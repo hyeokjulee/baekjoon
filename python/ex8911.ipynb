{
  "nbformat": 4,
  "nbformat_minor": 0,
  "metadata": {
    "colab": {
      "provenance": [],
      "authorship_tag": "ABX9TyOsAJEo/Ymsst6564GMO35X",
      "include_colab_link": true
    },
    "kernelspec": {
      "name": "python3",
      "display_name": "Python 3"
    },
    "language_info": {
      "name": "python"
    }
  },
  "cells": [
    {
      "cell_type": "markdown",
      "metadata": {
        "id": "view-in-github",
        "colab_type": "text"
      },
      "source": [
        "<a href=\"https://colab.research.google.com/github/hyeokjulee/baekjoon/blob/main/ex8911.ipynb\" target=\"_parent\"><img src=\"https://colab.research.google.com/assets/colab-badge.svg\" alt=\"Open In Colab\"/></a>"
      ]
    },
    {
      "cell_type": "code",
      "execution_count": 5,
      "metadata": {
        "colab": {
          "base_uri": "https://localhost:8080/"
        },
        "id": "hH8HyEPvLrHW",
        "outputId": "e2514fd5-e26c-41e4-87de-b6620ec71ea8"
      },
      "outputs": [
        {
          "output_type": "stream",
          "name": "stdout",
          "text": [
            "3\n",
            "FFLF\n",
            "FFRRFF\n",
            "FFFBBBRFFFBBB\n",
            "2\n",
            "0\n",
            "9\n",
            "\n"
          ]
        }
      ],
      "source": [
        "outStr = ''\n",
        "t = int(input())\n",
        "for i in range(t):\n",
        "  orderStr = input()\n",
        "  orderLength = len(orderStr)\n",
        "  orderList = list(orderStr)\n",
        "\n",
        "  x = []\n",
        "  y = []\n",
        "\n",
        "  x.append(0)\n",
        "  y.append(0)\n",
        "  \n",
        "  direction = 0;\n",
        "\n",
        "  for j in range(orderLength):\n",
        "    if orderList[j] == 'F':\n",
        "      if direction % 4 == 0:\n",
        "        x.append(x[len(x) - 1] + 1)\n",
        "      if direction % 4 == 1:\n",
        "        y.append(y[len(y) - 1] + 1)\n",
        "      if direction % 4 == 2:\n",
        "        x.append(x[len(x) - 1] - 1)\n",
        "      if direction % 4 == 3:\n",
        "        y.append(y[len(y) - 1] - 1)\n",
        "\n",
        "    if orderList[j] == 'B':\n",
        "      if direction % 4 == 0:\n",
        "        x.append(x[len(x) - 1] - 1)\n",
        "      if direction % 4 == 1:\n",
        "        y.append(y[len(y) - 1] - 1)\n",
        "      if direction % 4 == 2:\n",
        "        x.append(x[len(x) - 1] + 1)\n",
        "      if direction % 4 == 3:\n",
        "        y.append(y[len(y) - 1] + 1)\n",
        "\n",
        "    if orderList[j] == 'L':\n",
        "      direction -= 1;\n",
        "\n",
        "    if orderList[j] == 'R':\n",
        "      direction += 1;\n",
        "\n",
        "  outStr += str((max(y) - min(y)) * (max(x) - min(x))) + '\\n'\n",
        "\n",
        "print(outStr)"
      ]
    }
  ]
}